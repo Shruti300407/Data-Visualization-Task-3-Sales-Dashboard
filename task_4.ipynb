{
  "nbformat": 4,
  "nbformat_minor": 0,
  "metadata": {
    "colab": {
      "provenance": [],
      "authorship_tag": "ABX9TyN2gT3X07EnP7FCcaGFVkEi",
      "include_colab_link": true
    },
    "kernelspec": {
      "name": "python3",
      "display_name": "Python 3"
    },
    "language_info": {
      "name": "python"
    }
  },
  "cells": [
    {
      "cell_type": "markdown",
      "metadata": {
        "id": "view-in-github",
        "colab_type": "text"
      },
      "source": [
        "<a href=\"https://colab.research.google.com/github/Shruti300407/Data-Visualization-Task-3-Sales-Dashboard/blob/main/task_4.ipynb\" target=\"_parent\"><img src=\"https://colab.research.google.com/assets/colab-badge.svg\" alt=\"Open In Colab\"/></a>"
      ]
    },
    {
      "cell_type": "code",
      "execution_count": 2,
      "metadata": {
        "id": "967SXIBS34Ue",
        "colab": {
          "base_uri": "https://localhost:8080/"
        },
        "outputId": "99663abb-770b-48b6-ff61-922e2911a87f"
      },
      "outputs": [
        {
          "output_type": "stream",
          "name": "stdout",
          "text": [
            "                           order_id  payment_sequential payment_type  \\\n",
            "0  b81ef226f3fe1789b1e8b2acac839d17                   1  credit_card   \n",
            "1  a9810da82917af2d9aefd1278f1dcfa0                   1  credit_card   \n",
            "2  25e8ea4e93396b6fa0d3dd708e76c1bd                   1  credit_card   \n",
            "3  ba78997921bbcdc1373bb41e913ab953                   1  credit_card   \n",
            "4  42fdf880ba16b47b59251dd489d4441a                   1  credit_card   \n",
            "\n",
            "   payment_installments  payment_value  \n",
            "0                     8          99.33  \n",
            "1                     1          24.39  \n",
            "2                     1          65.71  \n",
            "3                     8         107.78  \n",
            "4                     2         128.45  \n"
          ]
        }
      ],
      "source": [
        "import pandas as pd\n",
        "import sqlite3\n",
        "\n",
        "# Connect to the same database\n",
        "conn = sqlite3.connect('/olist_customers.db')\n",
        "\n",
        "# Load the CSV\n",
        "file_path = '/olist_order_payments_dataset.csv'\n",
        "df = pd.read_csv(file_path)\n",
        "\n",
        "# Convert CSV to SQL table named 'order_payments'\n",
        "df.to_sql('order_payments', conn, if_exists='replace', index=False)\n",
        "\n",
        "# Check if data inserted correctly (optional)\n",
        "result = pd.read_sql('SELECT * FROM order_payments LIMIT 5;', conn)\n",
        "print(result)\n",
        "\n",
        "# Close the connection\n",
        "conn.close()\n"
      ]
    },
    {
      "cell_type": "code",
      "source": [
        "import pandas as pd\n",
        "import sqlite3\n",
        "\n",
        "# Connect to the same database\n",
        "conn = sqlite3.connect('/olist_customers.db')\n",
        "\n",
        "# Load the CSV\n",
        "file_path = '/olist_order_items_dataset.csv'\n",
        "df = pd.read_csv(file_path)\n",
        "\n",
        "# Convert CSV to SQL table named 'order_items'\n",
        "df.to_sql('order_items', conn, if_exists='replace', index=False)\n",
        "\n",
        "# Check if data inserted correctly (optional)\n",
        "result = pd.read_sql('SELECT * FROM order_items LIMIT 5;', conn)\n",
        "print(result)\n",
        "\n",
        "# Close the connection\n",
        "conn.close()\n"
      ],
      "metadata": {
        "colab": {
          "base_uri": "https://localhost:8080/"
        },
        "id": "dpTqGiCnJj1y",
        "outputId": "fdf91582-442d-4fc8-f2a6-9db7533ea9ae"
      },
      "execution_count": 3,
      "outputs": [
        {
          "output_type": "stream",
          "name": "stdout",
          "text": [
            "                           order_id  order_item_id  \\\n",
            "0  00010242fe8c5a6d1ba2dd792cb16214              1   \n",
            "1  00018f77f2f0320c557190d7a144bdd3              1   \n",
            "2  000229ec398224ef6ca0657da4fc703e              1   \n",
            "3  00024acbcdf0a6daa1e931b038114c75              1   \n",
            "4  00042b26cf59d7ce69dfabb4e55b4fd9              1   \n",
            "\n",
            "                         product_id                         seller_id  \\\n",
            "0  4244733e06e7ecb4970a6e2683c13e61  48436dade18ac8b2bce089ec2a041202   \n",
            "1  e5f2d52b802189ee658865ca93d83a8f  dd7ddc04e1b6c2c614352b383efe2d36   \n",
            "2  c777355d18b72b67abbeef9df44fd0fd  5b51032eddd242adc84c38acab88f23d   \n",
            "3  7634da152a4610f1595efa32f14722fc  9d7a1d34a5052409006425275ba1c2b4   \n",
            "4  ac6c3623068f30de03045865e4e10089  df560393f3a51e74553ab94004ba5c87   \n",
            "\n",
            "   shipping_limit_date   price  freight_value  \n",
            "0  2017-09-19 09:45:35   58.90          13.29  \n",
            "1  2017-05-03 11:05:13  239.90          19.93  \n",
            "2  2018-01-18 14:48:30  199.00          17.87  \n",
            "3  2018-08-15 10:10:18   12.99          12.79  \n",
            "4  2017-02-13 13:57:51  199.90          18.14  \n"
          ]
        }
      ]
    },
    {
      "cell_type": "code",
      "source": [
        "import pandas as pd\n",
        "import sqlite3\n",
        "\n",
        "# Correct file path (check left side file explorer in Colab)\n",
        "file_path = '/olist_customers_dataset.csv'\n",
        "\n",
        "# Load CSV\n",
        "df = pd.read_csv(file_path)\n",
        "\n",
        "# Create SQLite connection (this will create the DB file in content folder)\n",
        "conn = sqlite3.connect('/olist_customers.db')\n",
        "\n",
        "# Convert CSV to SQL table named 'customers'\n",
        "df.to_sql('customers', conn, if_exists='replace', index=False)\n",
        "\n",
        "# Check if data inserted (optional)\n",
        "result = pd.read_sql('SELECT * FROM customers LIMIT 5;', conn)\n",
        "print(result)\n",
        "\n",
        "# Close connection\n",
        "conn.close()\n"
      ],
      "metadata": {
        "colab": {
          "base_uri": "https://localhost:8080/"
        },
        "id": "DVRDJxlJ99N7",
        "outputId": "86916172-d5ea-4a7f-9a01-3ec0bb6c007d"
      },
      "execution_count": 1,
      "outputs": [
        {
          "output_type": "stream",
          "name": "stdout",
          "text": [
            "                        customer_id                customer_unique_id  \\\n",
            "0  06b8999e2fba1a1fbc88172c00ba8bc7  861eff4711a542e4b93843c6dd7febb0   \n",
            "1  18955e83d337fd6b2def6b18a428ac77  290c77bc529b7ac935b93aa66c333dc3   \n",
            "2  4e7b3e00288586ebd08712fdd0374a03  060e732b5b29e8181a18229c7b0b2b5e   \n",
            "3  b2b6027bc5c5109e529d4dc6358b12c3  259dac757896d24d7702b9acbbff3f3c   \n",
            "4  4f2d8ab171c80ec8364f7c12e35b23ad  345ecd01c38d18a9036ed96c73b8d066   \n",
            "\n",
            "   customer_zip_code_prefix          customer_city customer_state  \n",
            "0                     14409                 franca             SP  \n",
            "1                      9790  sao bernardo do campo             SP  \n",
            "2                      1151              sao paulo             SP  \n",
            "3                      8775        mogi das cruzes             SP  \n",
            "4                     13056               campinas             SP  \n"
          ]
        }
      ]
    },
    {
      "cell_type": "code",
      "source": [
        "from google.colab import drive\n",
        "drive.mount('/content/drive')"
      ],
      "metadata": {
        "id": "hg8Q0szRCu3Y"
      },
      "execution_count": null,
      "outputs": []
    }
  ]
}